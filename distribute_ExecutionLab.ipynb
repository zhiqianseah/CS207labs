{
 "cells": [
  {
   "cell_type": "code",
   "execution_count": 6,
   "metadata": {
    "collapsed": true
   },
   "outputs": [],
   "source": [
    "from IPython.display import HTML"
   ]
  },
  {
   "cell_type": "markdown",
   "metadata": {},
   "source": [
    "### Q1. \n",
    "\n",
    "What is happening here? Hazard a guess as to why these id's are the same."
   ]
  },
  {
   "cell_type": "code",
   "execution_count": 43,
   "metadata": {
    "collapsed": false
   },
   "outputs": [
    {
     "data": {
      "text/plain": [
       "(1763634960, 1763634960)"
      ]
     },
     "execution_count": 43,
     "metadata": {},
     "output_type": "execute_result"
    }
   ],
   "source": [
    "e=[1,2,3,4]\n",
    "d=1\n",
    "id(e[0]), id(d)"
   ]
  },
  {
   "cell_type": "code",
   "execution_count": 44,
   "metadata": {
    "collapsed": false
   },
   "outputs": [
    {
     "data": {
      "text/plain": [
       "(1763643120,\n",
       " 1763643120,\n",
       " 1796941752368,\n",
       " 1796941752464,\n",
       " 1763634768,\n",
       " 1763634768,\n",
       " 1796941751600,\n",
       " 1796941751664)"
      ]
     },
     "execution_count": 44,
     "metadata": {},
     "output_type": "execute_result"
    }
   ],
   "source": [
    "#More testing\n",
    "a=[256,257,-5,-6]\n",
    "b=256\n",
    "c = 257\n",
    "x = -5\n",
    "z = -6\n",
    "id(a[0]), id(b), id(a[1]), id(c), id(a[2]), id(x), id(a[3]), id(z)"
   ]
  },
  {
   "cell_type": "markdown",
   "metadata": {},
   "source": [
    "*your answer here*\n",
    "\n",
    "e is a list that contain 4 pointers. Each pointer in the list points to a value. Since e[0] (the pointer inside the list) and d both contains the value 1 at this point of time, python has both variables point to the same memory address. If either e[0] or d changes at a later point of time, then their id will differ. Further testing shows that this only works for an predefined range of small numbers, namely from -5 to 256. This is probably because python pre-allocates memory addresses for small integers that are likely to be used very frequently\n"
   ]
  },
  {
   "cell_type": "code",
   "execution_count": 7,
   "metadata": {
    "collapsed": false
   },
   "outputs": [
    {
     "data": {
      "text/html": [
       "<iframe width=\"800\" height=\"500\" frameborder=\"0\" src=\"http://pythontutor.com/iframe-embed.html#code=e%3D%5B1,2,3,4%5D%0Aprint(%22e%22,e%29&origin=opt-frontend.js&cumulative=false&heapPrimitives=true&textReferences=false&py=3&rawInputLstJSON=%5B%5D&curInstr=0&codeDivWidth=350&codeDivHeight=400\"> </iframe>"
      ],
      "text/plain": [
       "<IPython.core.display.HTML object>"
      ]
     },
     "execution_count": 7,
     "metadata": {},
     "output_type": "execute_result"
    }
   ],
   "source": [
    "HTML('<iframe width=\"800\" height=\"500\" frameborder=\"0\" src=\"http://pythontutor.com/iframe-embed.html#code=e%3D%5B1,2,3,4%5D%0Aprint(%22e%22,e%29&origin=opt-frontend.js&cumulative=false&heapPrimitives=true&textReferences=false&py=3&rawInputLstJSON=%5B%5D&curInstr=0&codeDivWidth=350&codeDivHeight=400\"> </iframe>')"
   ]
  },
  {
   "cell_type": "markdown",
   "metadata": {},
   "source": [
    "### Q2.\n",
    "\n",
    "Here we work through an example taken from SICP, in which we try and write a bank account withdrawal system"
   ]
  },
  {
   "cell_type": "code",
   "execution_count": 45,
   "metadata": {
    "collapsed": true
   },
   "outputs": [],
   "source": [
    "def make_withdraw1(balance):\n",
    "    \"\"\"Return a withdraw function that draws down balance with each call.\"\"\"\n",
    "    def withdraw(amount):#you are ok if you use balance as a read-only property\n",
    "        if amount > balance:\n",
    "            return 'Insufficient funds'\n",
    "        return balance - amount\n",
    "    return withdraw"
   ]
  },
  {
   "cell_type": "markdown",
   "metadata": {},
   "source": [
    "Lets make a 5 buck withdrawal"
   ]
  },
  {
   "cell_type": "code",
   "execution_count": 46,
   "metadata": {
    "collapsed": false
   },
   "outputs": [
    {
     "data": {
      "text/plain": [
       "15"
      ]
     },
     "execution_count": 46,
     "metadata": {},
     "output_type": "execute_result"
    }
   ],
   "source": [
    "wdfrom20=make_withdraw1(20)\n",
    "wdfrom20(5)"
   ]
  },
  {
   "cell_type": "markdown",
   "metadata": {},
   "source": [
    "Lets do it again"
   ]
  },
  {
   "cell_type": "code",
   "execution_count": 47,
   "metadata": {
    "collapsed": false
   },
   "outputs": [
    {
     "data": {
      "text/plain": [
       "15"
      ]
     },
     "execution_count": 47,
     "metadata": {},
     "output_type": "execute_result"
    }
   ],
   "source": [
    "wdfrom20(5)"
   ]
  },
  {
   "cell_type": "markdown",
   "metadata": {},
   "source": [
    "This is not quite what we want. We'd want it to go down to 10 on a repeated withdrawal. Remember, writing it like this, we have no access to `balance` directly. In other words, we want `balance` that was captured from the enclosing frame to be *changeable*, not unchangeable. "
   ]
  },
  {
   "cell_type": "markdown",
   "metadata": {},
   "source": [
    "Lets try something simple. Even though `balance` was captured from the enclosing frame, lets try reassigning it in `withdraw`. So, write a new `make_withdraw2` in which `withdraw` has this re-assignment. What happens when you do this?"
   ]
  },
  {
   "cell_type": "code",
   "execution_count": 57,
   "metadata": {
    "collapsed": true
   },
   "outputs": [],
   "source": [
    "#your code here\n",
    "def make_withdraw2(balance):\n",
    "    \"\"\"Return a withdraw function that draws down balance with each call.\"\"\"\n",
    "    def withdraw(amount):#you are ok if you use balance as a read-only property\n",
    "        if amount > balance:\n",
    "            return 'Insufficient funds'\n",
    "        balance = balance - amount\n",
    "        return balance\n",
    "    return withdraw"
   ]
  },
  {
   "cell_type": "code",
   "execution_count": 58,
   "metadata": {
    "collapsed": false
   },
   "outputs": [
    {
     "ename": "UnboundLocalError",
     "evalue": "local variable 'balance' referenced before assignment",
     "output_type": "error",
     "traceback": [
      "\u001b[1;31m---------------------------------------------------------------------------\u001b[0m",
      "\u001b[1;31mUnboundLocalError\u001b[0m                         Traceback (most recent call last)",
      "\u001b[1;32m<ipython-input-58-46f4fc61007a>\u001b[0m in \u001b[0;36m<module>\u001b[1;34m()\u001b[0m\n\u001b[0;32m      1\u001b[0m \u001b[0mwdfrom20_2\u001b[0m\u001b[1;33m=\u001b[0m\u001b[0mmake_withdraw2\u001b[0m\u001b[1;33m(\u001b[0m\u001b[1;36m20\u001b[0m\u001b[1;33m)\u001b[0m\u001b[1;33m\u001b[0m\u001b[0m\n\u001b[1;32m----> 2\u001b[1;33m \u001b[0mwdfrom20_2\u001b[0m\u001b[1;33m(\u001b[0m\u001b[1;36m5\u001b[0m\u001b[1;33m)\u001b[0m\u001b[1;33m\u001b[0m\u001b[0m\n\u001b[0m",
      "\u001b[1;32m<ipython-input-57-3d0da539c03d>\u001b[0m in \u001b[0;36mwithdraw\u001b[1;34m(amount)\u001b[0m\n\u001b[0;32m      3\u001b[0m     \u001b[1;34m\"\"\"Return a withdraw function that draws down balance with each call.\"\"\"\u001b[0m\u001b[1;33m\u001b[0m\u001b[0m\n\u001b[0;32m      4\u001b[0m     \u001b[1;32mdef\u001b[0m \u001b[0mwithdraw\u001b[0m\u001b[1;33m(\u001b[0m\u001b[0mamount\u001b[0m\u001b[1;33m)\u001b[0m\u001b[1;33m:\u001b[0m\u001b[1;31m#you are ok if you use balance as a read-only property\u001b[0m\u001b[1;33m\u001b[0m\u001b[0m\n\u001b[1;32m----> 5\u001b[1;33m         \u001b[1;32mif\u001b[0m \u001b[0mamount\u001b[0m \u001b[1;33m>\u001b[0m \u001b[0mbalance\u001b[0m\u001b[1;33m:\u001b[0m\u001b[1;33m\u001b[0m\u001b[0m\n\u001b[0m\u001b[0;32m      6\u001b[0m             \u001b[1;32mreturn\u001b[0m \u001b[1;34m'Insufficient funds'\u001b[0m\u001b[1;33m\u001b[0m\u001b[0m\n\u001b[0;32m      7\u001b[0m         \u001b[0mbalance\u001b[0m \u001b[1;33m=\u001b[0m \u001b[0mbalance\u001b[0m \u001b[1;33m-\u001b[0m \u001b[0mamount\u001b[0m\u001b[1;33m\u001b[0m\u001b[0m\n",
      "\u001b[1;31mUnboundLocalError\u001b[0m: local variable 'balance' referenced before assignment"
     ]
    }
   ],
   "source": [
    "wdfrom20_2=make_withdraw2(20)\n",
    "wdfrom20_2(5)"
   ]
  },
  {
   "cell_type": "markdown",
   "metadata": {},
   "source": [
    "If you did it right, you should have got an error. As the Python Execution Model says:\n",
    "\n",
    "> If a name binding operation occurs anywhere within a code block, all uses of the name within the block are treated as references to the current block. This can lead to errors when a name is used within a block before it is bound. This rule is subtle. Python lacks declarations and allows name binding operations to occur anywhere within a code block. The local variables of a code block can be determined by scanning the entire text of the block for name binding operations.\n",
    "\n",
    "What has happened is that `balance` is now being treated as a local variable in `withdraw`, since the assignment has created a \"name\" for it. And then it does not have a value."
   ]
  },
  {
   "cell_type": "markdown",
   "metadata": {},
   "source": [
    "### Q3.\n",
    "\n",
    "We need to somehow tell Python that `balance` is NOT a local variable. The way to do this is the `nonlocal` keyword. Write a function `make_withdraw` using  \n",
    "\n",
    "`nonlocal balance` \n",
    "\n",
    "as the first line of the inner `withdraw` function. "
   ]
  },
  {
   "cell_type": "code",
   "execution_count": 61,
   "metadata": {
    "collapsed": false
   },
   "outputs": [],
   "source": [
    "#your code here\n",
    "def make_withdraw(balance):\n",
    "    \"\"\"Return a withdraw function that draws down balance with each call.\"\"\"\n",
    "    def withdraw(amount):#you are ok if you use balance as a read-only property\n",
    "        nonlocal balance\n",
    "        if amount > balance:\n",
    "            return 'Insufficient funds'\n",
    "        balance = balance - amount\n",
    "        return balance\n",
    "    return withdraw"
   ]
  },
  {
   "cell_type": "code",
   "execution_count": 62,
   "metadata": {
    "collapsed": false
   },
   "outputs": [
    {
     "data": {
      "text/plain": [
       "15"
      ]
     },
     "execution_count": 62,
     "metadata": {},
     "output_type": "execute_result"
    }
   ],
   "source": [
    "from20_correct = make_withdraw(20)\n",
    "from20_correct(5)"
   ]
  },
  {
   "cell_type": "code",
   "execution_count": 63,
   "metadata": {
    "collapsed": false
   },
   "outputs": [
    {
     "data": {
      "text/plain": [
       "10"
      ]
     },
     "execution_count": 63,
     "metadata": {},
     "output_type": "execute_result"
    }
   ],
   "source": [
    "from20_correct(5)"
   ]
  },
  {
   "cell_type": "markdown",
   "metadata": {},
   "source": [
    "### Q4.\n",
    "\n",
    "Go to http://pythontutor.com/index.html, choose Python 3.3 as the language, and visualize your code. Embed the code from above in there. Pay attention to the variable `balance` in `f1: make_withdraw`."
   ]
  },
  {
   "cell_type": "code",
   "execution_count": 68,
   "metadata": {
    "collapsed": false
   },
   "outputs": [
    {
     "data": {
      "text/html": [
       "<iframe width=\"800\" height=\"500\" frameborder=\"0\" src=\"http://pythontutor.com/iframe-embed.html#code=def+make_withdraw(balance%29%3A%0D%0A++++%22%22%22Return+a+withdraw+function+that+draws+down+balance+with+each+call.%22%22%22%0D%0A++++def+withdraw(amount%29%3A%23you+are+ok+if+you+use+balance+as+a+read-only+property%0D%0A++++++++nonlocal+balance%0D%0A++++++++if+amount+%3E+balance%3A%0D%0A++++++++++++return+'Insufficient+funds'%0D%0A++++++++balance+%3D+balance+-+amount%0D%0A++++++++return+balance%0D%0A++++return+withdraw%0D%0A++++%0D%0Afrom20_correct+%3D+make_withdraw(20%29%0D%0Afrom20_correct(5%29%0D%0A%0D%0Afrom20_correct(5%29&origin=opt-frontend.js&cumulative=false&heapPrimitives=false&textReferences=false&py=3&rawInputLstJSON=%5B%5D&curInstr=0&codeDivWidth=350&codeDivHeight=400\"> </iframe>"
      ],
      "text/plain": [
       "<IPython.core.display.HTML object>"
      ]
     },
     "execution_count": 68,
     "metadata": {},
     "output_type": "execute_result"
    }
   ],
   "source": [
    "#your code here\n",
    "HTML('<iframe width=\"800\" height=\"500\" frameborder=\"0\" src=\"http://pythontutor.com/iframe-embed.html#code=def+make_withdraw(balance%29%3A%0D%0A++++%22%22%22Return+a+withdraw+function+that+draws+down+balance+with+each+call.%22%22%22%0D%0A++++def+withdraw(amount%29%3A%23you+are+ok+if+you+use+balance+as+a+read-only+property%0D%0A++++++++nonlocal+balance%0D%0A++++++++if+amount+%3E+balance%3A%0D%0A++++++++++++return+\\'Insufficient+funds\\'%0D%0A++++++++balance+%3D+balance+-+amount%0D%0A++++++++return+balance%0D%0A++++return+withdraw%0D%0A++++%0D%0Afrom20_correct+%3D+make_withdraw(20%29%0D%0Afrom20_correct(5%29%0D%0A%0D%0Afrom20_correct(5%29&origin=opt-frontend.js&cumulative=false&heapPrimitives=false&textReferences=false&py=3&rawInputLstJSON=%5B%5D&curInstr=0&codeDivWidth=350&codeDivHeight=400\"> </iframe>')"
   ]
  },
  {
   "cell_type": "markdown",
   "metadata": {},
   "source": [
    "Notice that using the \"constructor\" `make_withdraw` twice creates two different \"objects\"."
   ]
  },
  {
   "cell_type": "code",
   "execution_count": 66,
   "metadata": {
    "collapsed": false
   },
   "outputs": [
    {
     "name": "stdout",
     "output_type": "stream",
     "text": [
      "15\n",
      "95\n"
     ]
    }
   ],
   "source": [
    "wd=make_withdraw(20)\n",
    "print(wd(5))\n",
    "wd2=make_withdraw(100)\n",
    "print(wd2(5))"
   ]
  },
  {
   "cell_type": "code",
   "execution_count": 67,
   "metadata": {
    "collapsed": false
   },
   "outputs": [
    {
     "data": {
      "text/plain": [
       "(1796941799072, 1796941798664)"
      ]
     },
     "execution_count": 67,
     "metadata": {},
     "output_type": "execute_result"
    }
   ],
   "source": [
    "id(wd),id(wd2)"
   ]
  },
  {
   "cell_type": "markdown",
   "metadata": {},
   "source": [
    "Futhermore, notice that even though we cant access `balance` directly, we can change its value using the \"created\". So we now have a way to create state, as well as a way to change it. This is a very simple object system."
   ]
  },
  {
   "cell_type": "markdown",
   "metadata": {},
   "source": [
    "### Q5.\n",
    "\n",
    "Use the decorator `timer` which we developed in the lecture to time how long it takes a function to run. Use this timer to plot a graph of the amount of time it takes to fill multiple arrays of size 100, 1000, 10000, 100000, 1000000, 10000000 with integers upto and not including that number."
   ]
  },
  {
   "cell_type": "code",
   "execution_count": 2,
   "metadata": {
    "collapsed": true
   },
   "outputs": [],
   "source": [
    "#the decorator, slightly modified\n",
    "import time\n",
    "def time_returner(f):\n",
    "    def inner(*args):\n",
    "        t0 = time.time()\n",
    "        f(*args)\n",
    "        elapsed = time.time() - t0\n",
    "        return elapsed\n",
    "    return inner"
   ]
  },
  {
   "cell_type": "code",
   "execution_count": 3,
   "metadata": {
    "collapsed": true
   },
   "outputs": [],
   "source": [
    "#your code here\n",
    "@time_returner\n",
    "def fill_array(size):\n",
    "    array = []\n",
    "    for x in range(size):\n",
    "        array.append(x)"
   ]
  },
  {
   "cell_type": "code",
   "execution_count": 43,
   "metadata": {
    "collapsed": false
   },
   "outputs": [
    {
     "data": {
      "image/png": "[encoded data removed]",
      "text/plain": [
       "<matplotlib.figure.Figure at 0x16b17193ac8>"
      ]
     },
     "metadata": {},
     "output_type": "display_data"
    }
   ],
   "source": [
    "#your code here\n",
    "import matplotlib.pyplot as plt \n",
    "%matplotlib inline  \n",
    "\n",
    "size_list = [100, 1000, 10000, 100000, 1000000, 10000000]\n",
    "timings = []\n",
    "\n",
    "for size in size_list:\n",
    "    timings.append(fill_array(size))\n",
    "\n",
    "plt.plot(size_list, timings, marker = 'o')\n",
    "plt.xscale('log')\n",
    "plt.yscale('log')\n",
    "plt.ylabel(\"Time\")\n",
    "plt.xlabel(\"Size of Array to fill\")\n",
    "plt.title(\"Time to fill Arrays\")\n",
    "plt.show()"
   ]
  },
  {
   "cell_type": "markdown",
   "metadata": {},
   "source": [
    "### Q6.\n",
    "\n",
    "A decorator can have arguments.\n",
    "\n",
    "If you want to create a decorator with arguments, such as for example, a state that is global such as a counter, what you need to do is to capture the state variable as a closure inside the decorating function.\n",
    "\n",
    "Here is the skeleton for that:\n",
    "\n",
    "```python\n",
    "def call_to_create_a_decorator(state_arguments):\n",
    "    def this_is_the_decorator_function(user_function):\n",
    "        def inner_function(*args):\n",
    "            #wrapping stuff here\n",
    "            output = user_function(*args)\n",
    "            #pehaps more wrapping here\n",
    "            return output # or something else\n",
    "        return inner_function\n",
    "    return this_is_the_decorator_function\n",
    "```"
   ]
  },
  {
   "cell_type": "code",
   "execution_count": 30,
   "metadata": {
    "collapsed": true
   },
   "outputs": [],
   "source": [
    "def call_counter(count_dictionary):\n",
    "    def call_counter_decorator(func):\n",
    "        def inner(*args, **kwargs):\n",
    "            n = func.__name__\n",
    "            #your code here\n",
    "            output = func(*args)\n",
    "            if n in count_dictionary:\n",
    "                count_dictionary[n] += 1\n",
    "            else:\n",
    "                count_dictionary[n] = 1\n",
    "            return output\n",
    "        return inner\n",
    "    return call_counter_decorator\n"
   ]
  },
  {
   "cell_type": "code",
   "execution_count": 38,
   "metadata": {
    "collapsed": true
   },
   "outputs": [],
   "source": [
    "storage={}"
   ]
  },
  {
   "cell_type": "code",
   "execution_count": 39,
   "metadata": {
    "collapsed": false
   },
   "outputs": [],
   "source": [
    "@call_counter(storage)\n",
    "def fib_recursive(n):\n",
    "    if n == 1:\n",
    "        return 0\n",
    "    if n == 2:\n",
    "        return 1\n",
    "    return fib_recursive(n-2) + fib_recursive(n-1)"
   ]
  },
  {
   "cell_type": "code",
   "execution_count": 40,
   "metadata": {
    "collapsed": true
   },
   "outputs": [],
   "source": [
    "@call_counter(storage)\n",
    "def fact(n):\n",
    "    if n<=1:\n",
    "        return 1\n",
    "    else:\n",
    "        return n*fact(n-1)"
   ]
  },
  {
   "cell_type": "markdown",
   "metadata": {},
   "source": [
    "Run the following code:\n",
    "\n",
    "```python\n",
    "for i in [7, 13, 29]:\n",
    "    fib_recursive(i)\n",
    "    fact(i)\n",
    "    print(i, storage['fib_recursive'], storage['fact'])\n",
    "```"
   ]
  },
  {
   "cell_type": "code",
   "execution_count": 41,
   "metadata": {
    "collapsed": false
   },
   "outputs": [
    {
     "name": "stdout",
     "output_type": "stream",
     "text": [
      "7 25 7\n",
      "13 490 20\n",
      "29 1028947 49\n"
     ]
    }
   ],
   "source": [
    "# your code here\n",
    "for i in [7, 13, 29]:\n",
    "    fib_recursive(i)\n",
    "    fact(i)\n",
    "    print(i, storage['fib_recursive'], storage['fact'])"
   ]
  },
  {
   "cell_type": "markdown",
   "metadata": {},
   "source": [
    "Enter the last two numbers (as below) in the google form http://goo.gl/forms/Fyv2PLiJdw."
   ]
  },
  {
   "cell_type": "code",
   "execution_count": 36,
   "metadata": {
    "collapsed": false
   },
   "outputs": [
    {
     "name": "stdout",
     "output_type": "stream",
     "text": [
      "1028972 49\n"
     ]
    }
   ],
   "source": [
    "print(storage['fib_recursive'], storage['fact'])"
   ]
  }
 ],
 "metadata": {
  "kernelspec": {
   "display_name": "Python 3",
   "language": "python",
   "name": "python3"
  },
  "language_info": {
   "codemirror_mode": {
    "name": "ipython",
    "version": 3
   },
   "file_extension": ".py",
   "mimetype": "text/x-python",
   "name": "python",
   "nbconvert_exporter": "python",
   "pygments_lexer": "ipython3",
   "version": "3.5.1"
  }
 },
 "nbformat": 4,
 "nbformat_minor": 0
}
