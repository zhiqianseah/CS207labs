{
 "cells": [
  {
   "cell_type": "markdown",
   "metadata": {},
   "source": [
    "## Q1. Dynamic Arrays\n",
    "\n",
    "In the dynamic arrays example in the lecture, we did not implement the `set` and `delete` interfaces. Implement them."
   ]
  },
  {
   "cell_type": "code",
   "execution_count": 7,
   "metadata": {
    "collapsed": false
   },
   "outputs": [],
   "source": [
    "%%file dynamic_array2.c\n",
    "\n",
    "#include <stdlib.h>\n",
    "#include <string.h>\n",
    "#include \"dynamic_array.h\"\n",
    "\n",
    "int CAPACITY_INIT = 1;\n",
    "int GROWTH_FACTOR = 2;\n",
    "\n",
    "int DArray_init(DArray* arr){\n",
    "    arr->array = (int *) malloc(CAPACITY_INIT*sizeof(int));\n",
    "    if (arr->array == NULL) {\n",
    "        return -1;\n",
    "    }\n",
    "    arr->upto = 0;\n",
    "    arr->size = CAPACITY_INIT;\n",
    "    return 1;\n",
    "}\n",
    "\n",
    "int append(DArray* arr, int i){\n",
    "    int *iptr;\n",
    "    if (arr->upto >= arr->size) {\n",
    "        /* tmp pointer needed below as if allocation failed, original array would be lost */\n",
    "        iptr = (int *) realloc(arr->array, arr->size*GROWTH_FACTOR*sizeof(int));\n",
    "        if (iptr == NULL) {\n",
    "            return -1;\n",
    "        }\n",
    "        arr->array = iptr;\n",
    "        arr->size *= GROWTH_FACTOR;\n",
    "    }\n",
    "    arr->array[arr->upto] = i;\n",
    "    return arr->upto++;\n",
    "    \n",
    "        \n",
    "}\n",
    "\n",
    "int get(DArray* arr, int index) {\n",
    "    if (index >= arr->upto || index < 0) {\n",
    "        return -1;\n",
    "    }\n",
    "    return arr->array[index];\n",
    "}\n",
    "\n",
    "int get_index(DArray* arr, int value) {\n",
    "    int i;\n",
    "    for (i=0; i< arr->upto; i++){\n",
    "        if (arr->array[i]==value) {\n",
    "            return i;\n",
    "        }\n",
    "    }\n",
    "    return -1;\n",
    "}\n",
    "\n",
    "void DArray_free(DArray *arr) {\n",
    "  free(arr->array);\n",
    "}\n",
    "\n",
    "/*your code here*/\n"
   ]
  },
  {
   "cell_type": "markdown",
   "metadata": {},
   "source": [
    "We can test our code with the following new \"driver\" file."
   ]
  },
  {
   "cell_type": "code",
   "execution_count": 8,
   "metadata": {
    "collapsed": false
   },
   "outputs": [],
   "source": [
    "%%file dademo2.c\n",
    "\n",
    "#include <stdio.h>\n",
    "#include \"dynamic_array.h\"\n",
    "\n",
    "int main() {\n",
    "    DArray dynarray;\n",
    "    DArray_init(&dynarray);\n",
    "    printf(\"%d %d\\n\", dynarray.upto, dynarray.size);\n",
    "    int i;\n",
    "    for (i = 0; i < 200; i++) {\n",
    "        append(&dynarray, i);\n",
    "        printf(\"upto %d size %d val %d\\n\", dynarray.upto, dynarray.size, get(&dynarray, i));\n",
    "    }\n",
    "    for (i = 185; i < 190; i++) {\n",
    "        set(&dynarray, i, i+1);\n",
    "        printf(\"i %d val %d\\n\", i, get(&dynarray, i));\n",
    "    }\n",
    "    for (i = 180; i < 182; i++) {\n",
    "        delete(&dynarray, i);\n",
    "        printf(\"i %d val %d upto %d\\n\", i, get(&dynarray, i), dynarray.upto);\n",
    "    }\n",
    "    for (i = 180; i < 195; i++) {\n",
    "        printf(\"val %d index %d\\n\", i, get_index(&dynarray, i));\n",
    "    }\n",
    "    DArray_free(&dynarray);\n",
    "}"
   ]
  },
  {
   "cell_type": "markdown",
   "metadata": {},
   "source": [
    "Compile and run it thus:"
   ]
  },
  {
   "cell_type": "code",
   "execution_count": 9,
   "metadata": {
    "collapsed": false
   },
   "outputs": [],
   "source": [
    "!gcc -o dademo2 dademo2.c dynamic_array2.c"
   ]
  },
  {
   "cell_type": "code",
   "execution_count": 10,
   "metadata": {
    "collapsed": false
   },
   "outputs": [],
   "source": [
    "!./dademo2"
   ]
  },
  {
   "cell_type": "markdown",
   "metadata": {},
   "source": [
    "Copy the above output into the first answer on the google form. (http://goo.gl/forms/rH5he0YC44)"
   ]
  },
  {
   "cell_type": "markdown",
   "metadata": {},
   "source": [
    "## 2. Linked List\n",
    "\n",
    "If we put all our code into one file, we dont need to write the header file, since we use our interfaces in the same file. This does not makefor code usable by others, but as we hae seen ealier, is useful for quick playing and testing.\n",
    "\n",
    "Provided below are parts of a partially implemented linked list in C. Implement the functions:\n",
    "\n",
    "- `int get_index(Item* listptr, int value)` which returns the index at which the value is found, and otherwise -1.\n",
    "- `Item* remove_item(Item* listptr, int value)`. Be careful to return NULL if the item with `value` was not in the list, and make sure that deletion repoints the pointer of the previous item to the next item."
   ]
  },
  {
   "cell_type": "code",
   "execution_count": 18,
   "metadata": {
    "collapsed": false
   },
   "outputs": [],
   "source": [
    "%%file linked_list_incomplete.c\n",
    "\n",
    "#include <stdlib.h>\n",
    "#include <stdio.h>\n",
    "\n",
    "typedef struct item {\n",
    "    int value;\n",
    "    struct item* rest;\n",
    "} Item;\n",
    "\n",
    "Item* new_item(int value){\n",
    "    Item* newitem = (Item *) malloc(sizeof(Item));\n",
    "    newitem->value = value;\n",
    "    newitem->rest = NULL;\n",
    "    return newitem;\n",
    "}\n",
    "\n",
    "Item* insert_front(Item* listptr, int value){\n",
    "    Item* newitem = new_item(value);\n",
    "    newitem->rest = listptr;\n",
    "    return newitem;\n",
    "}\n",
    "\n",
    "\n",
    "int get(Item* listptr, int index){\n",
    "    int ctr = 0;\n",
    "    Item* p;\n",
    "    for(p = listptr; p!= NULL; p = p->rest){\n",
    "        if (ctr==index){\n",
    "            return p->value;\n",
    "        }\n",
    "        ctr++;\n",
    "    }\n",
    "    return -1;\n",
    "}\n",
    "\n",
    "\n",
    "void free_all(Item* listptr) {\n",
    "    Item *p;\n",
    "    Item *next;\n",
    "    for(p = listptr; p!= NULL; p = next){\n",
    "        next = p->rest;\n",
    "        free(p);\n",
    "    }\n",
    "}\n",
    "\n",
    "int main(){\n",
    "    Item* listptr;\n",
    "    int i;\n",
    "    listptr = new_item(0);\n",
    "    for (i=1; i < 6; i++){\n",
    "        listptr=insert_front(listptr, i);\n",
    "    }\n",
    "    for (i=0; i < 6; i++){\n",
    "        printf(\"i %d Item %d\\n\", i, get(listptr, i));\n",
    "    }\n",
    "    listptr = remove_item(listptr, 3);\n",
    "    for (i=0; i <= 5; i++){\n",
    "        printf(\"i %d Item %d\\n\", i, get(listptr, i));\n",
    "    }\n",
    "    printf(\"Index for 3 %d\\n\", get_index(listptr, 3));\n",
    "    free_all(listptr);\n",
    "}"
   ]
  },
  {
   "cell_type": "markdown",
   "metadata": {},
   "source": [
    "Add the two functions and write your code here."
   ]
  },
  {
   "cell_type": "code",
   "execution_count": 22,
   "metadata": {
    "collapsed": false
   },
   "outputs": [],
   "source": [
    "%%file linked_list.c\n",
    "\n",
    "//your code here\n"
   ]
  },
  {
   "cell_type": "code",
   "execution_count": 23,
   "metadata": {
    "collapsed": true
   },
   "outputs": [],
   "source": [
    "!gcc -o linked_list -g linked_list.c"
   ]
  },
  {
   "cell_type": "code",
   "execution_count": 21,
   "metadata": {
    "collapsed": false
   },
   "outputs": [],
   "source": [
    "!./linked_list"
   ]
  },
  {
   "cell_type": "markdown",
   "metadata": {},
   "source": [
    "Copy this output to the second answer on the google form. (http://goo.gl/forms/rH5he0YC44)"
   ]
  }
 ],
 "metadata": {
  "kernelspec": {
   "display_name": "Python 3",
   "language": "python",
   "name": "python3"
  },
  "language_info": {
   "codemirror_mode": {
    "name": "ipython",
    "version": 3
   },
   "file_extension": ".py",
   "mimetype": "text/x-python",
   "name": "python",
   "nbconvert_exporter": "python",
   "pygments_lexer": "ipython3",
   "version": "3.5.1"
  }
 },
 "nbformat": 4,
 "nbformat_minor": 0
}
